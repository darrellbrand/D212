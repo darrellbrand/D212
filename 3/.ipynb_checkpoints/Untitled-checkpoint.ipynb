{
 "cells": [
  {
   "cell_type": "markdown",
   "id": "f941cbfe-ad7f-402f-8ba7-eb511fabc9f2",
   "metadata": {},
   "source": [
    "### A\n",
    "### 1)\n",
    "\n",
    "    One question that can be answered with market basket analyis is: Which items are frequently purchased together?\n",
    "\n",
    "### 2)\n",
    "    What are the most frequently purchased groups of items in the transaction data set.\n",
    "\n",
    "### B\n",
    "\n",
    "### 1)\n"
   ]
  }
 ],
 "metadata": {
  "kernelspec": {
   "display_name": "Python 3 (ipykernel)",
   "language": "python",
   "name": "python3"
  },
  "language_info": {
   "codemirror_mode": {
    "name": "ipython",
    "version": 3
   },
   "file_extension": ".py",
   "mimetype": "text/x-python",
   "name": "python",
   "nbconvert_exporter": "python",
   "pygments_lexer": "ipython3",
   "version": "3.10.12"
  }
 },
 "nbformat": 4,
 "nbformat_minor": 5
}
