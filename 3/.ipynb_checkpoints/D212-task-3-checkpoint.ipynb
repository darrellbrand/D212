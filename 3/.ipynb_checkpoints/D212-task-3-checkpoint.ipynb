{
 "cells": [
  {
   "attachments": {},
   "cell_type": "markdown",
   "id": "f941cbfe-ad7f-402f-8ba7-eb511fabc9f2",
   "metadata": {},
   "source": [
    "### A\n",
    "### 1)\n",
    "\n",
    "    One question that can be answered with market basket analyis is: Which items are frequently purchased together?\n",
    "\n",
    "### 2)\n",
    "    What are the most frequently purchased groups of items in the transaction data set.\n",
    "\n",
    "### B\n",
    "\n",
    "### 1)\n",
    "    Market basket analysis analyzes the selected data set by identifying item sets that are frequently purchased. Association rules are generated based on the frequency of item sets. Once the association rules are generated they can be evaluated using metrics such as confidence, lift, and support. An expected outcome would be for the analysis to identify all frequently purchased item sets and the relationship or association rules between the items. Each association rule will have a metric such as confidence, lift, and support applied to it. Finally, the metrics can be evaluated and decisions made concerning product placement, promotions and others.\n",
    "\n",
    "### 2)\n",
    "\n",
    "    From row 9 of the provided data set a customer purchases HP 65 ink, and Cat8 Ethernet Cable in a single transaction.\n",
    "\n",
    "### 3)\n",
    "\n",
    "     One assumption of market basket analysis is that the data is transaction based. This means that each data point represents a single transaction.\n",
    "\n",
    "### C)\n",
    "### 1\n",
    "    Transform the data set.\n",
    "    "
   ]
  },
  {
   "cell_type": "code",
   "execution_count": 1,
   "id": "1bbce869-b2de-4018-8821-5c51c9c266fc",
   "metadata": {},
   "outputs": [],
   "source": [
    "import pandas as pd\n",
    "import matplotlib.pyplot as plt\n",
    "import numpy as np\n",
    "\n",
    "file_path = '/home/dj/skewl/D212/3/teleco_market_basket.csv'\n",
    "pd.set_option('display.max_columns', None)\n",
    "# Read the data from the CSV file into a DataFrame\n",
    "df = pd.read_csv(file_path)\n",
    "# drop empty rows\n",
    "df = df.dropna(thresh=1)\n",
    "# reset index\n",
    "df = df.reset_index(drop=True)  \n",
    "#replace nans\n",
    "df = df.fillna(\"unknown\")\n",
    "# change each row to a list\n",
    "df = df.apply(lambda row: row.tolist(), axis=1)\n",
    "# drop empty rows\n",
    "df = df.dropna()\n",
    "#convert data frame to list of lists\n",
    "df = list(df)\n",
    "# Remove the unknown value from each list\n",
    "df = [[item for item in inner_list if item != \"unknown\"] for inner_list in df]\n",
    "# write to file\n",
    "pd.DataFrame(df).to_csv('prepared_data.csv', index=False)\n"
   ]
  },
  {
   "cell_type": "markdown",
   "id": "36aefd7c-b78b-496e-b59e-a035d678b69d",
   "metadata": {},
   "source": [
    "### 2) \n",
    "Code to generate association rules."
   ]
  },
  {
   "cell_type": "code",
   "execution_count": 2,
   "id": "b1761a82-9968-4bff-8ac1-e9ffad7b50fd",
   "metadata": {},
   "outputs": [],
   "source": [
    "from mlxtend.preprocessing import TransactionEncoder\n",
    "from mlxtend.frequent_patterns import apriori\n",
    "from mlxtend.frequent_patterns import association_rules\n",
    "# Convert the list of lists to a DataFrame with TransactionEncoder\n",
    "te = TransactionEncoder()\n",
    "#one hot encode\n",
    "transactions_encoded = te.fit_transform(df)\n",
    "#make dataframe\n",
    "df_transactions = pd.DataFrame(transactions_encoded, columns=te.columns_)\n",
    "# Find frequent itemsets with a minimum support of 0.5\n",
    "frequent_itemsets = apriori(df_transactions, min_support=0.01, use_colnames=True)\n",
    "# Generate association rules with a minimum lift of 0.01\n",
    "rules = association_rules(frequent_itemsets, metric='lift', min_threshold=0.01)"
   ]
  },
  {
   "cell_type": "markdown",
   "id": "89946252-a35b-450e-9bc4-5bc416c35de6",
   "metadata": {},
   "source": [
    "### 3)\n",
    "\n",
    "Support, lift, and confidence values of the association rules table.\n"
   ]
  },
  {
   "cell_type": "code",
   "execution_count": 3,
   "id": "070848fb-fef9-499c-af65-fbafa79d35bb",
   "metadata": {},
   "outputs": [
    {
     "name": "stdout",
     "output_type": "stream",
     "text": [
      "      support  confidence      lift\n",
      "0    0.023064    0.456464  1.914955\n",
      "1    0.023064    0.096756  1.914955\n",
      "2    0.010132    0.200528  1.223888\n",
      "3    0.010132    0.061839  1.223888\n",
      "4    0.015198    0.300792  2.321232\n",
      "..        ...         ...       ...\n",
      "427  0.010932    0.340249  1.954217\n",
      "428  0.010932    0.308271  1.881480\n",
      "429  0.010932    0.066721  1.881480\n",
      "430  0.010932    0.062787  1.954217\n",
      "431  0.010932    0.084362  2.152382\n",
      "\n",
      "[432 rows x 3 columns]\n"
     ]
    }
   ],
   "source": [
    "\n",
    "print(rules[['support','confidence','lift']])"
   ]
  },
  {
   "cell_type": "markdown",
   "id": "81aa109f-1652-4781-bf38-295b08fc8b78",
   "metadata": {},
   "source": [
    "### Top 3 relevant association rules"
   ]
  },
  {
   "cell_type": "code",
   "execution_count": 4,
   "id": "c36f0784-2942-421a-a2a9-485594fd523f",
   "metadata": {},
   "outputs": [
    {
     "name": "stdout",
     "output_type": "stream",
     "text": [
      "Association Rules:\n",
      "                            antecedents                         consequents  \\\n",
      "178  (VIVO Dual LCD Monitor Desk mount)    (Dust-Off Compressed Gas 2 pack)   \n",
      "179    (Dust-Off Compressed Gas 2 pack)  (VIVO Dual LCD Monitor Desk mount)   \n",
      "142                         (HP 61 ink)    (Dust-Off Compressed Gas 2 pack)   \n",
      "\n",
      "     antecedent support  consequent support   support  confidence      lift  \\\n",
      "178            0.174110            0.238368  0.059725    0.343032  1.439085   \n",
      "179            0.238368            0.174110  0.059725    0.250559  1.439085   \n",
      "142            0.163845            0.238368  0.052660    0.321400  1.348332   \n",
      "\n",
      "     leverage  conviction  zhangs_metric  \n",
      "178  0.018223    1.159314       0.369437  \n",
      "179  0.018223    1.102008       0.400606  \n",
      "142  0.013604    1.122357       0.308965  \n"
     ]
    }
   ],
   "source": [
    "#sort itemsets by relevance\n",
    "rules = rules.sort_values(by=['support','lift','confidence'], ascending=False)\n",
    "print(\"Association Rules:\")\n",
    "print(rules.head(3))"
   ]
  },
  {
   "cell_type": "markdown",
   "id": "d5f7f0bb-fb9a-4acd-ad21-2cb6079b09ef",
   "metadata": {},
   "source": [
    "### 4)\n",
    "\n",
    "### Rule 1. \n",
    "\n",
    "    Antecedent = (VIVO Dual LCD Monitor Desk mount). Buying this item leads to buying the consequent.\n",
    "    \n",
    "    Consequent = (Dust-Off Compressed Gas 2 pack) \n",
    "    \n",
    "    Support = 0.059725. This is the joint probability that the antecedent and consequents will be purchased in the same transaction.\n",
    "    \n",
    "    Confidence = 0.34302. This is the probability the consequent will be purchased if the antecedent is purchased.\n",
    "    \n",
    "    Lift = 1.439085. This indicates how much more likely the antecedent and consequents are to be purchased together rather than by themselves\n",
    "\n",
    "\n",
    "\n",
    "### Rule 2. \n",
    "\n",
    "    Antecedent =  (Dust-Off Compressed Gas 2 pack).  Buying this item leads to buying the consequent.\n",
    "    \n",
    "    Consequent = (VIVO Dual LCD Monitor Desk mount)   \n",
    "    \n",
    "    Support = 0.059725. This is the joint probability that the antecedent and consequents will be purchased in the same transaction.\n",
    "    \n",
    "    Confidence = 0.250559. This is the probability the consequent will be purchased if the antecedent is purchased.\n",
    "    \n",
    "    Lift = 1.439085. This indicates how much more likely the antecedent and consequents are to be purchased together rather than by themselves\n",
    "\n",
    "\n",
    "### Rule 3. \n",
    "\n",
    "    Antecedent =  (HP 61 ink).  Buying this item leads to buying the consequent.\n",
    "    Consequent = (Dust-Off Compressed Gas 2 pack) \n",
    "    \n",
    "    Support = 0.052660. This is the joint probability that the antecedent and consequents will be purchased in the same transaction.\n",
    "    \n",
    "    Confidence = 0.321440. This is the probability the consequent will be purchased if the antecedent is purchased.\n",
    "    \n",
    "    Lift = 1.34883. This indicates how much more likely the antecedent and consequents are to be purchased together rather than by themselves\n",
    "\n",
    "\n",
    "### D\n",
    "### 1)\n",
    "    Lift, confidence, and support are key metrics that describe the strength and nature of the relationship between antecedents and consequents. Lift describes how much more likely the antecedent and consequents are to be purchased togther rather than by themselves. Confidence describes the probability of a consequent being purchased if an antecedent is purchased. Finally, support describes the joint probability of the consequent and the antecedent being purchased together. Knowing these metrics is significant because it provides more detail of the relationship between the items and can drive decision making for businesses.\n",
    "\n",
    "\n",
    "### 2)\n",
    "    The practical significance of the findings from my analysis are that we have identified three sets of items that have a statistically significant probability of being purchased in the same transaction. This analysis can drive business decisions such as product placement, marketing, and promotion design. Since we know that VIVO Dual LCD Monitor Desk mount and Dust-Off Compressed Gas 2 pack have a support of .05975, stores can place these items together, or feature advertisements for the two products on  the same page of the newspaper. This is a good decision because we know the probability of a customer buying the Dust-Off if the customer buys the LCD monitor. That is one practically significant finding of the analysis.\n",
    "\n",
    "\n",
    "\n",
    "### 3)\n",
    "\n",
    "    A recommended course of action based on the the results of D1 is that businesses should feature product placement of VIVO Dual LCD Monitor Desk mount and Dust-Off Compressed Gas 2 pack near each other because of the support metric. The data shows that there is a higher probability of selling Dust-Off to a customer that is buying a LCD monitor. Inside the store Dust-Off should be placed next to the HP ink because of the lift metric. This is because customers have a 1.3488 higher likelihood of purchasing Dust-Off when purchasing HP ink compared to those customers who do not buy HP ink. These are a couple of actionable strategies based on the results of the analysis."
   ]
  },
  {
   "cell_type": "code",
   "execution_count": null,
   "id": "719d3ae6-72f1-4898-a484-334915f99ac6",
   "metadata": {},
   "outputs": [],
   "source": []
  }
 ],
 "metadata": {
  "kernelspec": {
   "display_name": "Python 3 (ipykernel)",
   "language": "python",
   "name": "python3"
  },
  "language_info": {
   "codemirror_mode": {
    "name": "ipython",
    "version": 3
   },
   "file_extension": ".py",
   "mimetype": "text/x-python",
   "name": "python",
   "nbconvert_exporter": "python",
   "pygments_lexer": "ipython3",
   "version": "3.10.12"
  }
 },
 "nbformat": 4,
 "nbformat_minor": 5
}
