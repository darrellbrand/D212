{
 "cells": [
  {
   "cell_type": "markdown",
   "id": "b6893319-f466-445d-9c20-6fe771f2ec98",
   "metadata": {},
   "source": [
    "### A\n",
    "\n",
    "### 1)\n",
    "\n",
    "Can we simplify the churn data set using principal component analysis and retain the components that capture the most variance for future use in machine learning models and data visualization?\n",
    "\n",
    "### 2)\n",
    "One goal of the data analysis is to reduce the 'Churn' data set into principal components and determine the optimal number of components for future use.\n",
    "\n",
    "### B\n",
    " ### 1)\n",
    " PCA analyzes the the data set by"
   ]
  }
 ],
 "metadata": {
  "kernelspec": {
   "display_name": "Python 3 (ipykernel)",
   "language": "python",
   "name": "python3"
  },
  "language_info": {
   "codemirror_mode": {
    "name": "ipython",
    "version": 3
   },
   "file_extension": ".py",
   "mimetype": "text/x-python",
   "name": "python",
   "nbconvert_exporter": "python",
   "pygments_lexer": "ipython3",
   "version": "3.10.12"
  }
 },
 "nbformat": 4,
 "nbformat_minor": 5
}
