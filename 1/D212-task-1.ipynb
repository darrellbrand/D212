{
 "cells": [
  {
   "cell_type": "markdown",
   "id": "f7f720c2-7c23-4f16-9c69-d8cb751e18bc",
   "metadata": {},
   "source": [
    "### A\n",
    "### 1)\n",
    "    Can our customers be grouped into separate categories using k-means clustering so we may target them with different advertising and promotional campaigns?\n",
    "\n",
    "### 2\n",
    "    One goal would be to define at least two groups of customers from the churn data set using k-means clustering.\n",
    "\n",
    "### B\n",
    "### 1)  \n",
    "     K-means clustering analyzes the data set by partitioning a data set into a specified number of clusters. Cluster centers are randomly chosen from points in the data set. All other data points are then assigned to the cluster that is closest to it. Cluster centers are recalculated using the means of the data points assigned to it. Data points are assigned to the clusters again. This process can repeat many times. An expected outcome is that all data points will be assigned to a cluster and the clusters will have minimum inertia when the algorithm has finished.\n",
    "\n",
    " ### 2)\n",
    "\n",
    "     One assumption of k-means clustering is that all data points should be numerical and continuous.\n",
    "\n",
    " ### 3)\n",
    " numpy\n",
    " \n",
    "     This is used for working with numpy arrays that are returned from the scaling function.\n",
    " \n",
    " matplotlib.pyplot\n",
    " \n",
    "     This is used for visualizing inertia using the elbow method to find the optimal number of clusters.\n",
    " \n",
    "sklearn.cluster import KMeans\n",
    "\n",
    "    This is the actual clustering algorithm that creates the model to cluster our data.\n",
    "\n",
    "from sklearn.preprocessing import StandardScaler\n",
    "\n",
    "    This will be used to normalize the continuous variables.\n",
    "\n",
    "\n",
    "### C\n",
    " ### 1)\n",
    "     One data preprocessing goal is to scale the variables before clustering them.\n",
    "\n",
    " ### 2)\n",
    "     The inital data set variables will be:\n",
    " \n",
    "     City categorical,\n",
    "     County categorical,\n",
    "     Area categorical,\n",
    "     Marital categorical,\n",
    "     Gender categorical,\n",
    "     Churn categorical,\n",
    "     Techie categorical,\n",
    "     StreamingTV categorical,\n",
    "     Multiple categorical \n",
    "\n",
    "    Children continuous,\n",
    "    Age continuous,\n",
    "    Income continuous,\n",
    "    Outage_sec_perweek continuous,\n",
    "    MonthlyCharge continuous,\n",
    "    Bandwidth_GB_year continuous\n",
    "\n",
    " "
   ]
  },
  {
   "cell_type": "code",
   "execution_count": null,
   "id": "281c6e5a-dc77-42c6-ae9d-af69f49628b7",
   "metadata": {},
   "outputs": [],
   "source": []
  },
  {
   "cell_type": "markdown",
   "id": "0a92770a-93f0-4e19-981e-5aab1777dcf0",
   "metadata": {},
   "source": [
    "### 3)\n",
    "### prepare data \n",
    "\n",
    "read in data and drop index column."
   ]
  },
  {
   "cell_type": "code",
   "execution_count": 1,
   "id": "b4c68fde-1372-4b61-90f7-4d0928edd7d6",
   "metadata": {},
   "outputs": [],
   "source": [
    "import pandas as pd\n",
    "# Assuming your CSV file is named 'data.csv', adjust the file path as needed\n",
    "file_path = '/home/dj/skewl/D212/1/churn_clean.csv'\n",
    "pd.set_option('display.max_columns', None)\n",
    "# Read the data from the CSV file into a DataFrame\n",
    "df = pd.read_csv(file_path)\n",
    "#drop index column\n",
    "df = df.loc[:, ~df.columns.str.contains('Unnamed')]"
   ]
  },
  {
   "cell_type": "markdown",
   "id": "9edaeef0-3457-48c3-aa32-40f89c3d3b46",
   "metadata": {},
   "source": [
    "### check for missing values."
   ]
  },
  {
   "cell_type": "code",
   "execution_count": 2,
   "id": "f5d17679-f8e4-4965-9465-6561df5f1dda",
   "metadata": {},
   "outputs": [
    {
     "name": "stdout",
     "output_type": "stream",
     "text": [
      "CaseOrder               0\n",
      "Customer_id             0\n",
      "Interaction             0\n",
      "UID                     0\n",
      "City                    0\n",
      "State                   0\n",
      "County                  0\n",
      "Zip                     0\n",
      "Lat                     0\n",
      "Lng                     0\n",
      "Population              0\n",
      "Area                    0\n",
      "TimeZone                0\n",
      "Job                     0\n",
      "Children                0\n",
      "Age                     0\n",
      "Income                  0\n",
      "Marital                 0\n",
      "Gender                  0\n",
      "Churn                   0\n",
      "Outage_sec_perweek      0\n",
      "Email                   0\n",
      "Contacts                0\n",
      "Yearly_equip_failure    0\n",
      "Techie                  0\n",
      "Contract                0\n",
      "Port_modem              0\n",
      "Tablet                  0\n",
      "InternetService         0\n",
      "Phone                   0\n",
      "Multiple                0\n",
      "OnlineSecurity          0\n",
      "OnlineBackup            0\n",
      "DeviceProtection        0\n",
      "TechSupport             0\n",
      "StreamingTV             0\n",
      "StreamingMovies         0\n",
      "PaperlessBilling        0\n",
      "PaymentMethod           0\n",
      "Tenure                  0\n",
      "MonthlyCharge           0\n",
      "Bandwidth_GB_Year       0\n",
      "Item1                   0\n",
      "Item2                   0\n",
      "Item3                   0\n",
      "Item4                   0\n",
      "Item5                   0\n",
      "Item6                   0\n",
      "Item7                   0\n",
      "Item8                   0\n",
      "dtype: int64\n"
     ]
    }
   ],
   "source": [
    "\n",
    "# Identify missing values using isna() method\n",
    "missing_values = df.isna().sum()\n",
    "# Print DataFrame with True for missing values and False for non-missing values\n",
    "print(missing_values)\n",
    "# no missing values."
   ]
  },
  {
   "cell_type": "markdown",
   "id": "7b5ccafc-c7ac-4541-894c-1f3028125f3d",
   "metadata": {},
   "source": [
    "### separate continuous and categorical variables. Then one hot encode the categorical variables"
   ]
  },
  {
   "cell_type": "code",
   "execution_count": 3,
   "id": "58f4da8b-0f75-4455-bfbf-9417c296f277",
   "metadata": {},
   "outputs": [],
   "source": [
    "#split continuous and categorical variables into separate dataframes\n",
    "dfcon = df[['Age','Income','Bandwidth_GB_Year','Age','MonthlyCharge']]\n",
    "dfcat = df[['Gender','Area','City','County','Marital','Churn','Techie','StreamingTV','Multiple']]\n",
    "#one-hot encode categorical data and drop first level of each\n",
    "dfcat_encoded = pd.get_dummies(dfcat,drop_first=True)"
   ]
  },
  {
   "cell_type": "markdown",
   "id": "e075f2e5-73f4-4d7c-9f48-74857f86d098",
   "metadata": {},
   "source": [
    "###  Concatenate encoded categorical variables with continuous variables. Write prepared data to file. Normalize all variables and put them in a numpy array."
   ]
  },
  {
   "cell_type": "code",
   "execution_count": 4,
   "id": "ccd777a2-2750-4d54-bec5-5f37e69edca0",
   "metadata": {},
   "outputs": [],
   "source": [
    "#normalize data after encoding\n",
    "from sklearn.preprocessing import StandardScaler\n",
    "scaler = StandardScaler()\n",
    "#concatenate the columns\n",
    "df = pd.concat([dfcon, dfcat_encoded], axis=1)\n",
    "#write the prepared data to .csv file\n",
    "df.to_csv('prepared-data.csv', index=False)\n",
    "# scale the data frame\n",
    "df = scaler.fit_transform(df)"
   ]
  },
  {
   "cell_type": "markdown",
   "id": "78a7f5bc-fc81-4675-a9ce-c34ad4d3741a",
   "metadata": {},
   "source": [
    "### D\n",
    "### 1)\n",
    "    I determined that 5 is the optimal number of clusters using the elbow method. This means that adding more than 5 clusters does not significantly decrease the inertia or within cluster sum of squares variance within the clusters.\n",
    "\n",
    "### 2)\n",
    "### Code to plot the inertia of the clusters using the elbow method."
   ]
  },
  {
   "cell_type": "code",
   "execution_count": 5,
   "id": "c71579d8-8df3-46cd-bc97-0a3433af8442",
   "metadata": {},
   "outputs": [
    {
     "data": {
      "image/png": "[encoded data removed]",
      "text/plain": [
       "<Figure size 432x288 with 1 Axes>"
      ]
     },
     "metadata": {
      "needs_background": "light"
     },
     "output_type": "display_data"
    }
   ],
   "source": [
    "\n",
    "import matplotlib.pyplot as plt\n",
    "from sklearn.cluster import KMeans\n",
    "\n",
    "# Define a range of cluster numbers to test\n",
    "k_values = range(1, 11)  # Test cluster numbers from 1 to 10\n",
    "inertiaArray = []\n",
    "\n",
    "# Calculate inertia for each `k` value\n",
    "for k in k_values:\n",
    "    kmeans = KMeans(n_clusters=k, random_state=42)\n",
    "    kmeans.fit(df)\n",
    "    inertiaArray.append(kmeans.inertia_)\n",
    "\n",
    "# Plot inertia to find the \"elbow\"\n",
    "plt.plot(k_values, inertiaArray, 'bo-')  # 'bo-' indicates blue circles with lines\n",
    "plt.xlabel(\"Number of Clusters (k)\")\n",
    "plt.ylabel(\"Inertia (Within-Cluster Sum of Squares)\")\n",
    "plt.title(\"Elbow Method for Determining Optimal Clusters\")\n",
    "plt.show()\n"
   ]
  },
  {
   "cell_type": "markdown",
   "id": "0d602ed0-f6d8-4fcc-ab8b-a729796501ba",
   "metadata": {},
   "source": [
    "### E\n",
    "### 1)\n",
    "     The quality of the clusters that were created are being evaluated by the metric called inertia. Inertia is also called the within cluster sum of squares. This is calculated by summing the squared distance from each data point and it's cluster center or centroid. Lower inertia indicates more compact clusters. K-means algorithm tries to produce clusters with a low inertia. With a cluster number set to k=5 we get an inertia of approximately 7.686.\n",
    "\n",
    "\n",
    "### 2) \n",
    "    The results of the cluster analysis show that the customers in the churn data set can be grouped into 5 groups. The analysis shows that grouping the customers into more than 5 groups does not significantly reduce the inertia of each cluster. This analysis shows us that our customers can be categorized into 5 different groups. This can be useful for targeting these different groups for promotional or advertising campaigns.\n",
    "\n",
    "### 3)\n",
    "    One limitation of the data analysis is that it may be hard to discern what is different about the customers in each of the 5 clusters. While we know that there are 5 groups of customers that are statistically different from each other, it is unknown if the differences are meaningful, or the groups can be targeted separately because of their cluster membership. From this analysis we don't know what exactly defines each cluster and makes it different from the others. Further analysis of each cluster is needed before we can make actionable changes based on k means clustering. \n",
    "\n",
    "\n",
    "### 4)\n",
    "    One course of action based on the results of this analysis would be that we should spend more time and resources analyzing the customers in each of these 5 clusters. Now that we know our customers fall into 5 different groups we can tailor our marketing, promotional, and advertising campaigns to suit customers in these categories. We should analyze each of the 5 clusters and find out what makes that cluster different. When that is known the marketing team can develop a plan to appeal to each of the 5 clusters."
   ]
  },
  {
   "cell_type": "code",
   "execution_count": null,
   "id": "fba5740d-20d1-4460-8f95-3b177455be0d",
   "metadata": {},
   "outputs": [],
   "source": []
  }
 ],
 "metadata": {
  "kernelspec": {
   "display_name": "Python 3 (ipykernel)",
   "language": "python",
   "name": "python3"
  },
  "language_info": {
   "codemirror_mode": {
    "name": "ipython",
    "version": 3
   },
   "file_extension": ".py",
   "mimetype": "text/x-python",
   "name": "python",
   "nbconvert_exporter": "python",
   "pygments_lexer": "ipython3",
   "version": "3.10.12"
  }
 },
 "nbformat": 4,
 "nbformat_minor": 5
}
